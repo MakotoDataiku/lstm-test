{
 "cells": [
  {
   "cell_type": "code",
   "execution_count": 1,
   "metadata": {},
   "outputs": [],
   "source": [
    "# -*- coding: utf-8 -*-\n",
    "import dataiku\n",
    "import pandas as pd, numpy as np\n",
    "from dataiku import pandasutils as pdu\n",
    "import pickle\n",
    "\n",
    "# Read recipe inputs\n",
    "models = dataiku.Folder(\"DQ1im0k6\")\n",
    "models_info = models.get_info()"
   ]
  },
  {
   "cell_type": "code",
   "execution_count": 8,
   "metadata": {},
   "outputs": [
    {
     "data": {
      "text/plain": [
       "'/Users/mmiyazaki/dataiku/Design/DATA_DIR/managed_folders/CUSTOMMODELS/DQ1im0k6/finalized_modedl.sav'"
      ]
     },
     "execution_count": 8,
     "metadata": {},
     "output_type": "execute_result"
    }
   ],
   "source": [
    "models.file_path(\"finalized_modedl.sav\")"
   ]
  },
  {
   "cell_type": "code",
   "execution_count": 0,
   "metadata": {},
   "outputs": [],
   "source": [
    "output = dataiku.Dataset(\"output\")\n",
    "output_df = output.get_dataframe()\n",
    "\n",
    "# load the model from disk\n",
    "loaded_model = pickle.load(open(filename, 'rb'))\n",
    "result = loaded_model.score(X_test, Y_test)\n",
    "\n",
    "\n",
    "# Compute recipe outputs from inputs\n",
    "# TODO: Replace this part by your actual code that computes the output, as a Pandas dataframe\n",
    "# NB: DSS also supports other kinds of APIs for reading and writing data. Please see doc.\n",
    "\n",
    "output_scored_2_df = output_df # For this sample code, simply copy input to output\n",
    "\n",
    "\n",
    "# Write recipe outputs\n",
    "output_scored_2 = dataiku.Dataset(\"output_scored_2\")\n",
    "output_scored_2.write_with_schema(output_scored_2_df)"
   ]
  }
 ],
 "metadata": {
  "associatedRecipe": "compute_output_scored_2",
  "creator": "admin",
  "customFields": {},
  "kernelspec": {
   "display_name": "Python (env custom-models)",
   "language": "python",
   "name": "py-dku-venv-custom-models"
  },
  "language_info": {
   "codemirror_mode": {
    "name": "ipython",
    "version": 3
   },
   "file_extension": ".py",
   "mimetype": "text/x-python",
   "name": "python",
   "nbconvert_exporter": "python",
   "pygments_lexer": "ipython3",
   "version": "3.6.8"
  },
  "tags": [
   "recipe-editor"
  ]
 },
 "nbformat": 4,
 "nbformat_minor": 1
}
