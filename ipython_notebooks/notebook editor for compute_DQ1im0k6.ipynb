{
 "cells": [
  {
   "cell_type": "code",
   "execution_count": 1,
   "metadata": {},
   "outputs": [],
   "source": [
    "# -*- coding: utf-8 -*-\n",
    "import dataiku\n",
    "import pandas as pd, numpy as np\n",
    "from dataiku import pandasutils as pdu\n",
    "from sklearn.model_selection import train_test_split\n",
    "from custom_PLS.custom_PLS import PLS\n",
    "\n",
    "df_train = dataiku.Dataset(\"house_price\").get_dataframe()\n",
    "\n",
    "X_train = df_train[[\"bathrooms\", \"bedrooms\", \"sqft_living\"]].values\n",
    "y_train = df_train[\"price\"].values"
   ]
  },
  {
   "cell_type": "code",
   "execution_count": 2,
   "metadata": {},
   "outputs": [],
   "source": [
    "reg = PLS(n_components=2)"
   ]
  },
  {
   "cell_type": "code",
   "execution_count": 6,
   "metadata": {},
   "outputs": [
    {
     "data": {
      "text/plain": [
       "PLSRegression(copy=True, max_iter=500, n_components=2, scale=True, tol=1e-06)"
      ]
     },
     "execution_count": 6,
     "metadata": {},
     "output_type": "execute_result"
    }
   ],
   "source": [
    "reg.fit(X_train, y_train)"
   ]
  },
  {
   "cell_type": "code",
   "execution_count": 7,
   "metadata": {},
   "outputs": [],
   "source": [
    "models = dataiku.Folder(\"DQ1im0k6\")\n",
    "filename = '/finalized_model.sav'\n",
    "model_path = models.get_path() + filename\n",
    "pickle.dump(reg, open(model_path, 'wb'))"
   ]
  },
  {
   "cell_type": "code",
   "execution_count": null,
   "metadata": {},
   "outputs": [],
   "source": []
  }
 ],
 "metadata": {
  "associatedRecipe": "compute_DQ1im0k6",
  "creator": "admin",
  "customFields": {},
  "kernelspec": {
   "display_name": "Python (env custom-models)",
   "language": "python",
   "name": "py-dku-venv-custom-models"
  },
  "language_info": {
   "codemirror_mode": {
    "name": "ipython",
    "version": 3
   },
   "file_extension": ".py",
   "mimetype": "text/x-python",
   "name": "python",
   "nbconvert_exporter": "python",
   "pygments_lexer": "ipython3",
   "version": "3.6.8"
  },
  "tags": [
   "recipe-editor"
  ]
 },
 "nbformat": 4,
 "nbformat_minor": 1
}
